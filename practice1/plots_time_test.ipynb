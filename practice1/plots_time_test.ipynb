{
 "cells": [
  {
   "cell_type": "code",
   "execution_count": 4,
   "id": "f252e698",
   "metadata": {},
   "outputs": [
    {
     "name": "stdout",
     "output_type": "stream",
     "text": [
      "The autoreload extension is already loaded. To reload it, use:\n",
      "  %reload_ext autoreload\n"
     ]
    }
   ],
   "source": [
    "%load_ext autoreload\n",
    "%autoreload 2\n",
    "\n",
    "import math \n",
    "import warnings\n",
    "import numpy as np\n",
    "import matplotlib.pyplot as plt\n",
    "\n",
    "from alexander_nikulin_v2 import *\n",
    "from tqdm import trange\n",
    "\n",
    "warnings.filterwarnings('ignore')\n",
    "\n",
    "def expectation(prob, val):\n",
    "    return np.dot(prob, val)\n",
    "\n",
    "def variance(prob, val):\n",
    "    return expectation(prob, val**2) - expectation(prob, val)**2\n",
    "\n",
    "def arithmetic_round(n):\n",
    "    if n - math.floor(n) < 0.5:\n",
    "        return math.floor(n)\n",
    "    return math.ceil(n)"
   ]
  },
  {
   "cell_type": "code",
   "execution_count": 2,
   "id": "fc03bc3a",
   "metadata": {},
   "outputs": [],
   "source": [
    "# конфиг для 2 варианта\n",
    "params = {\n",
    "    \"amin\": 75,\n",
    "    \"amax\": 90,\n",
    "    \"bmin\": 500,\n",
    "    \"bmax\": 600,\n",
    "    \"p1\": 0.1,\n",
    "    \"p2\": 0.01,\n",
    "    \"p3\": 0.3\n",
    "}\n",
    "a = np.arange(params[\"amin\"], params[\"amax\"] + 1)\n",
    "b = np.arange(params[\"bmin\"], params[\"bmax\"] + 1)\n",
    "c = np.arange(params[\"amax\"] + params[\"bmax\"] + 1)\n",
    "d = np.arange(2 * (params[\"amax\"] + params[\"bmax\"]) + 1)"
   ]
  },
  {
   "cell_type": "markdown",
   "id": "21384df9",
   "metadata": {},
   "source": [
    "### 0. Тесты"
   ]
  },
  {
   "cell_type": "code",
   "execution_count": 3,
   "id": "5c80e083",
   "metadata": {},
   "outputs": [
    {
     "name": "stdout",
     "output_type": "stream",
     "text": [
      "pa, model 1: \t ok; \t time: 0.0000 seconds\n",
      "pa, model 2: \t ok; \t time: 0.0000 seconds\n",
      "pb, model 1: \t ok; \t time: 0.0000 seconds\n",
      "pb, model 2: \t ok; \t time: 0.0000 seconds\n",
      "pc, model 1: \t ok; \t time: 0.5452 seconds\n",
      "pc, model 2: \t ok; \t time: 0.0350 seconds\n",
      "pd, model 1: \t ok; \t time: 0.6475 seconds\n",
      "pd, model 2: \t ok; \t time: 0.1549 seconds\n",
      "pc_a, model 1: \t ok; \t time: 0.0578 seconds\n",
      "pc_a, model 2: \t ok; \t time: 0.0027 seconds\n",
      "pc_b, model 1: \t ok; \t time: 0.0092 seconds\n",
      "pc_b, model 2: \t ok; \t time: 0.0005 seconds\n",
      "pb_a, model 1: \t ok; \t time: 0.0000 seconds\n",
      "pb_a, model 2: \t ok; \t time: 0.0000 seconds\n",
      "pb_d, model 1: \t ok; \t time: 0.6353 seconds\n",
      "pb_d, model 2: \t ok; \t time: 0.1569 seconds\n",
      "pb_ad, model 1: \t ok; \t time: 0.1738 seconds\n",
      "pb_ad, model 2: \t ok; \t time: 0.1185 seconds\n"
     ]
    }
   ],
   "source": [
    "!python BMML1_open_tests.py"
   ]
  },
  {
   "cell_type": "markdown",
   "id": "83ed6277",
   "metadata": {},
   "source": [
    "### 2. Найти математические ожидания и дисперсии априорных распределений p(a), p(b), p(c), p(d)"
   ]
  },
  {
   "cell_type": "code",
   "execution_count": 4,
   "id": "5fbf3dd3",
   "metadata": {
    "scrolled": true
   },
   "outputs": [
    {
     "name": "stdout",
     "output_type": "stream",
     "text": [
      "Model: 1\n",
      "p(a): 83 21\n",
      "p(b): 550 850\n",
      "p(c): 14 13\n",
      "p(d): 18 25\n",
      "Model: 2\n",
      "p(a): 83 21\n",
      "p(b): 550 850\n",
      "p(c): 14 14\n",
      "p(d): 18 27\n"
     ]
    }
   ],
   "source": [
    "for model in [1, 2]:\n",
    "    print(\"Model:\", model)\n",
    "    mean_a = arithmetic_round(expectation(*pa(params, model)))\n",
    "    mean_b = arithmetic_round(expectation(*pb(params, model)))\n",
    "    mean_c = arithmetic_round(expectation(*pc(params, model)))\n",
    "    mean_d = arithmetic_round(expectation(*pd(params, model)))\n",
    "    \n",
    "    var_a = arithmetic_round(variance(*pa(params, model)))\n",
    "    var_b = arithmetic_round(variance(*pb(params, model)))\n",
    "    var_c = arithmetic_round(variance(*pc(params, model)))\n",
    "    var_d = arithmetic_round(variance(*pd(params, model)))\n",
    "\n",
    "    print(\"p(a):\", mean_a, var_a)\n",
    "    print(\"p(b):\", mean_b, var_b)\n",
    "    print(\"p(c):\", mean_c, var_c)\n",
    "    print(\"p(d):\", mean_d, var_d)"
   ]
  },
  {
   "cell_type": "markdown",
   "id": "8f73cc44",
   "metadata": {},
   "source": [
    "### 3. Пронаблюдать, как происходит уточнение прогноза для величины b по мере прихода новой косвенной информации.\n",
    "Для этого построить графики и найти мат.ожидание и дисперсию для распределений p(b),\n",
    "p(b|a), p(b|d), p(b|a, d) при параметрах a, d, равных мат.ожиданиям своих априорных распределений"
   ]
  },
  {
   "cell_type": "code",
   "execution_count": 9,
   "id": "ee818237",
   "metadata": {},
   "outputs": [
    {
     "name": "stdout",
     "output_type": "stream",
     "text": [
      "Model 1, E p(b | d): 550.0726755897829\n",
      "Model 1, Var p(b | d): 848.037891839107\n",
      "Model 1, E p(b | a, d): 550.0363468930655\n",
      "Model 1, Var p(b | a, d): 848.0311255462002\n",
      "Model 2, E p(b | d): 550.0977797601524\n",
      "Model 2, Var p(b | d): 848.128027453844\n",
      "Model 2, E p(b | a, d): 550.0634796135496\n",
      "Model 2, Var p(b | a, d): 848.1231120710727\n"
     ]
    },
    {
     "data": {
      "image/png": "[encoded data removed]",
      "text/plain": [
       "<Figure size 864x576 with 1 Axes>"
      ]
     },
     "metadata": {
      "needs_background": "light"
     },
     "output_type": "display_data"
    },
    {
     "data": {
      "image/png": "[encoded data removed]",
      "text/plain": [
       "<Figure size 864x576 with 1 Axes>"
      ]
     },
     "metadata": {
      "needs_background": "light"
     },
     "output_type": "display_data"
    }
   ],
   "source": [
    "for model in [1, 2]:\n",
    "    mean_a = arithmetic_round(expectation(*pa(params, model)))\n",
    "    mean_d = arithmetic_round(expectation(*pd(params, model)))\n",
    "\n",
    "    dist_pb, values = pb(params, model)\n",
    "    dist_pb_a, values = pb_a(np.array([mean_a]), params, model)\n",
    "    dist_pb_d, values = pb_d(np.array([mean_d]), params, model)\n",
    "    dist_pb_ad, values = pb_ad(np.array([mean_a]), np.array([mean_d]), params, model)\n",
    "\n",
    "    assert np.allclose(dist_pb_d.sum(), 1.0)\n",
    "    assert np.allclose(dist_pb_ad.sum(), 1.0)\n",
    "    \n",
    "    print(f\"Model {model}, E p(b | d):\", expectation(dist_pb_d.flatten(), values))\n",
    "    print(f\"Model {model}, Var p(b | d):\", variance(dist_pb_d.flatten(), values))\n",
    "    print(f\"Model {model}, E p(b | a, d):\", expectation(dist_pb_ad.flatten(), values))\n",
    "    print(f\"Model {model}, Var p(b | a, d):\", variance(dist_pb_ad.flatten(), values))\n",
    "    \n",
    "    plt.figure(figsize=(12, 8))\n",
    "    plt.plot(values, dist_pb_a, label=\"p(b | a)\")\n",
    "    plt.plot(values, dist_pb_d, label=\"p(b | d)\")\n",
    "    plt.plot(values, dist_pb_ad.flatten(), label=\"p(b | a, d)\")\n",
    "    plt.title(f\"Модель {model}\")\n",
    "    plt.xlabel(\"b\")\n",
    "    plt.ylabel(\"Вероятность\")\n",
    "    plt.legend()"
   ]
  },
  {
   "cell_type": "markdown",
   "id": "47ee3572",
   "metadata": {},
   "source": [
    "### 4. Определить, при каких соотношениях параметров p 1 , p 2 изменяется относительная важность параметров a, b для оценки величины c."
   ]
  },
  {
   "cell_type": "code",
   "execution_count": 11,
   "id": "7de2e2c9",
   "metadata": {
    "scrolled": false
   },
   "outputs": [
    {
     "name": "stderr",
     "output_type": "stream",
     "text": [
      "100%|███████████████████████████████████████████████████████████████████████████████████████████████████████████████████████████████████████████████████████| 100/100 [13:00<00:00,  7.81s/it]\n"
     ]
    }
   ],
   "source": [
    "pparams = params.copy()\n",
    "\n",
    "mean_a = arithmetic_round(expectation(*pa(params, 1)))\n",
    "mean_b = arithmetic_round(expectation(*pb(params, 1)))\n",
    "\n",
    "p1, p2 = np.linspace(0, 1, 100), np.linspace(0, 1, 100)\n",
    "\n",
    "res_mask1 = np.zeros((100, 100))\n",
    "res_mask2 = np.zeros((100, 100))\n",
    "\n",
    "for i in trange(100):\n",
    "    for j in range(100):\n",
    "        pparams[\"p1\"] = p1[i]\n",
    "        pparams[\"p2\"] = p2[j]\n",
    "        \n",
    "        dist_pc_a, val_pc_a = pc_a(np.array([mean_a]), pparams, 1) \n",
    "        dist_pc_b, val_pc_b = pc_b(np.array([mean_b]), pparams, 1)\n",
    "        \n",
    "        var_pc_a = variance(dist_pc_a.flatten(), val_pc_a)\n",
    "        var_pc_b = variance(dist_pc_b.flatten(), val_pc_b)\n",
    "        \n",
    "        res_mask1[i, j] = var_pc_b < var_pc_a\n",
    "        res_mask2[i, j] = var_pc_b >= var_pc_a"
   ]
  },
  {
   "cell_type": "code",
   "execution_count": 12,
   "id": "e406d48e",
   "metadata": {},
   "outputs": [
    {
     "data": {
      "text/plain": [
       "<matplotlib.image.AxesImage at 0x7efbdc0ec1f0>"
      ]
     },
     "execution_count": 12,
     "metadata": {},
     "output_type": "execute_result"
    },
    {
     "data": {
      "image/png": "[encoded data removed]",
      "text/plain": [
       "<Figure size 432x288 with 1 Axes>"
      ]
     },
     "metadata": {
      "needs_background": "light"
     },
     "output_type": "display_data"
    }
   ],
   "source": [
    "plt.imshow(res_mask1, cmap=\"gray\", interpolation=\"none\")"
   ]
  },
  {
   "cell_type": "code",
   "execution_count": 13,
   "id": "775cb2e8",
   "metadata": {},
   "outputs": [
    {
     "data": {
      "text/plain": [
       "<matplotlib.image.AxesImage at 0x7efbdc0be970>"
      ]
     },
     "execution_count": 13,
     "metadata": {},
     "output_type": "execute_result"
    },
    {
     "data": {
      "image/png": "[encoded data removed]",
      "text/plain": [
       "<Figure size 432x288 with 1 Axes>"
      ]
     },
     "metadata": {
      "needs_background": "light"
     },
     "output_type": "display_data"
    }
   ],
   "source": [
    "plt.imshow(res_mask2, cmap=\"gray\", interpolation=\"none\")"
   ]
  },
  {
   "cell_type": "markdown",
   "id": "28428368",
   "metadata": {},
   "source": [
    "### 5. Провести временные замеры по оценке всех необходимых распределений p(c), p(c|a), p(c|b), p(b|a), p(b|d), p(b|a, d), p(d)"
   ]
  },
  {
   "cell_type": "markdown",
   "id": "003fcc1b",
   "metadata": {},
   "source": [
    "#### Модель 1"
   ]
  },
  {
   "cell_type": "code",
   "execution_count": 6,
   "id": "02aa9b8f",
   "metadata": {},
   "outputs": [
    {
     "name": "stdout",
     "output_type": "stream",
     "text": [
      "531 ms ± 10.9 ms per loop (mean ± std. dev. of 7 runs, 1 loop each)\n"
     ]
    }
   ],
   "source": [
    "%%timeit\n",
    "pc(params, model=1);"
   ]
  },
  {
   "cell_type": "code",
   "execution_count": 7,
   "id": "307aa363",
   "metadata": {},
   "outputs": [
    {
     "name": "stdout",
     "output_type": "stream",
     "text": [
      "531 ms ± 3.9 ms per loop (mean ± std. dev. of 7 runs, 1 loop each)\n"
     ]
    }
   ],
   "source": [
    "%%timeit\n",
    "pc_a(a, params, model=1)"
   ]
  },
  {
   "cell_type": "code",
   "execution_count": 8,
   "id": "c0c5dd31",
   "metadata": {},
   "outputs": [
    {
     "name": "stdout",
     "output_type": "stream",
     "text": [
      "529 ms ± 6.98 ms per loop (mean ± std. dev. of 7 runs, 1 loop each)\n"
     ]
    }
   ],
   "source": [
    "%%timeit\n",
    "pc_b(b, params, model=1)"
   ]
  },
  {
   "cell_type": "code",
   "execution_count": 9,
   "id": "d3b526f0",
   "metadata": {},
   "outputs": [
    {
     "name": "stdout",
     "output_type": "stream",
     "text": [
      "3.62 µs ± 149 ns per loop (mean ± std. dev. of 7 runs, 100000 loops each)\n"
     ]
    }
   ],
   "source": [
    "%%timeit\n",
    "pb_a(a, params, model=1)"
   ]
  },
  {
   "cell_type": "code",
   "execution_count": 10,
   "id": "f97a5cc5",
   "metadata": {},
   "outputs": [
    {
     "name": "stdout",
     "output_type": "stream",
     "text": [
      "812 ms ± 30.9 ms per loop (mean ± std. dev. of 7 runs, 1 loop each)\n"
     ]
    }
   ],
   "source": [
    "%%timeit\n",
    "pb_d(d, params, model=1)"
   ]
  },
  {
   "cell_type": "code",
   "execution_count": 11,
   "id": "787aaa1c",
   "metadata": {},
   "outputs": [
    {
     "name": "stdout",
     "output_type": "stream",
     "text": [
      "3.81 s ± 37.6 ms per loop (mean ± std. dev. of 7 runs, 1 loop each)\n"
     ]
    }
   ],
   "source": [
    "%%timeit\n",
    "pb_ad(a, d, params, model=1)"
   ]
  },
  {
   "cell_type": "code",
   "execution_count": 12,
   "id": "3665e5ef",
   "metadata": {},
   "outputs": [
    {
     "name": "stdout",
     "output_type": "stream",
     "text": [
      "690 ms ± 33.3 ms per loop (mean ± std. dev. of 7 runs, 1 loop each)\n"
     ]
    }
   ],
   "source": [
    "%%timeit\n",
    "pd(params, model=1)"
   ]
  },
  {
   "cell_type": "markdown",
   "id": "1a088c1d",
   "metadata": {},
   "source": [
    "#### Модель 2"
   ]
  },
  {
   "cell_type": "code",
   "execution_count": 13,
   "id": "0531594d",
   "metadata": {},
   "outputs": [
    {
     "name": "stdout",
     "output_type": "stream",
     "text": [
      "31 ms ± 459 µs per loop (mean ± std. dev. of 7 runs, 10 loops each)\n"
     ]
    }
   ],
   "source": [
    "%%timeit\n",
    "pc(params, model=2)"
   ]
  },
  {
   "cell_type": "code",
   "execution_count": 14,
   "id": "e9546e06",
   "metadata": {},
   "outputs": [
    {
     "name": "stdout",
     "output_type": "stream",
     "text": [
      "31.9 ms ± 581 µs per loop (mean ± std. dev. of 7 runs, 10 loops each)\n"
     ]
    }
   ],
   "source": [
    "%%timeit\n",
    "pc_a(a, params, model=2)"
   ]
  },
  {
   "cell_type": "code",
   "execution_count": 15,
   "id": "065899b1",
   "metadata": {},
   "outputs": [
    {
     "name": "stdout",
     "output_type": "stream",
     "text": [
      "31.8 ms ± 1.96 ms per loop (mean ± std. dev. of 7 runs, 10 loops each)\n"
     ]
    }
   ],
   "source": [
    "%%timeit\n",
    "pc_b(b, params, model=2)"
   ]
  },
  {
   "cell_type": "code",
   "execution_count": 16,
   "id": "23a66c8d",
   "metadata": {},
   "outputs": [
    {
     "name": "stdout",
     "output_type": "stream",
     "text": [
      "3.72 µs ± 307 ns per loop (mean ± std. dev. of 7 runs, 100000 loops each)\n"
     ]
    }
   ],
   "source": [
    "%%timeit\n",
    "pb_a(a, params, model=2)"
   ]
  },
  {
   "cell_type": "code",
   "execution_count": 17,
   "id": "a3f10959",
   "metadata": {},
   "outputs": [
    {
     "name": "stdout",
     "output_type": "stream",
     "text": [
      "281 ms ± 4.06 ms per loop (mean ± std. dev. of 7 runs, 1 loop each)\n"
     ]
    }
   ],
   "source": [
    "%%timeit\n",
    "pb_d(d, params, model=2)"
   ]
  },
  {
   "cell_type": "code",
   "execution_count": 19,
   "id": "325bca3f",
   "metadata": {},
   "outputs": [
    {
     "name": "stdout",
     "output_type": "stream",
     "text": [
      "3.44 s ± 85.7 ms per loop (mean ± std. dev. of 7 runs, 1 loop each)\n"
     ]
    }
   ],
   "source": [
    "%%timeit\n",
    "pb_ad(a, d, params, model=2)"
   ]
  },
  {
   "cell_type": "code",
   "execution_count": 18,
   "id": "b926f2fc",
   "metadata": {},
   "outputs": [
    {
     "name": "stdout",
     "output_type": "stream",
     "text": [
      "149 ms ± 4.59 ms per loop (mean ± std. dev. of 7 runs, 10 loops each)\n"
     ]
    }
   ],
   "source": [
    "%%timeit\n",
    "pd(params, model=2)"
   ]
  }
 ],
 "metadata": {
  "kernelspec": {
   "display_name": "Python 3 (ipykernel)",
   "language": "python",
   "name": "python3"
  },
  "language_info": {
   "codemirror_mode": {
    "name": "ipython",
    "version": 3
   },
   "file_extension": ".py",
   "mimetype": "text/x-python",
   "name": "python",
   "nbconvert_exporter": "python",
   "pygments_lexer": "ipython3",
   "version": "3.9.7"
  }
 },
 "nbformat": 4,
 "nbformat_minor": 5
}
